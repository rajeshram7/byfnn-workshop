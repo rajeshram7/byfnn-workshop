{
 "cells": [
  {
   "cell_type": "markdown",
   "metadata": {},
   "source": [
    "# Build your first neural network"
   ]
  },
  {
   "cell_type": "code",
   "execution_count": 1,
   "metadata": {},
   "outputs": [
    {
     "name": "stderr",
     "output_type": "stream",
     "text": [
      "Using TensorFlow backend.\n"
     ]
    }
   ],
   "source": [
    "# First we have to import some tools\n",
    "\n",
    "import keras\n",
    "from keras.datasets import mnist\n",
    "from matplotlib import pyplot\n",
    "from keras.utils.np_utils import to_categorical\n",
    "from keras.models import Sequential\n",
    "from keras.layers.core import Dense, Dropout, Activation\n",
    "\n",
    "# A warning might appear when you run this cell, that's normal"
   ]
  },
  {
   "cell_type": "markdown",
   "metadata": {},
   "source": [
    "## Dataset of handwritten digits"
   ]
  },
  {
   "cell_type": "code",
   "execution_count": 2,
   "metadata": {},
   "outputs": [
    {
     "name": "stdout",
     "output_type": "stream",
     "text": [
      "\n",
      "Shape of x_train: (60000, 28, 28)\n",
      "Shape of y_train: (60000,)\n"
     ]
    }
   ],
   "source": [
    "# x_train holds the images we'll be using to train our network, and y_train has the integers that are drawn in those images\n",
    "# Similarly, x_test holds the images we'll use to test our accuracy and y_test holds the integers we're trying to find\n",
    "(x_train, y_train), (x_test, y_test) = mnist.load_data()\n",
    "\n",
    "\n",
    "# Let's see what we're working with here\n",
    "print()\n",
    "print('Shape of x_train:', x_train.shape)\n",
    "print('Shape of y_train:', y_train.shape) \n",
    "\n",
    "# The (60000, 28, 28) means there are 60,000 samples in x_train, and each sample is a 2D array with 28 rows and 28 columns\n",
    "# The (60000,) means there are 60,000 values in y_train"
   ]
  },
  {
   "cell_type": "markdown",
   "metadata": {},
   "source": [
    "Let's look at some of the images we'll be training on.\n",
    "- Each one is 28 pixels by 28 pixels, and totally black and white.\n",
    "- The 28 rows and 28 columns of numbers in the training data correspond to the 28 rows and 28 columns of pixels in the image.\n",
    "- The darkness of each pixel is represented as a number in the training data, where 0 is a white pixel and 255 is a black pixel. "
   ]
  },
  {
   "cell_type": "code",
   "execution_count": 3,
   "metadata": {},
   "outputs": [
    {
     "data": {
      "image/png": "[encoded data removed]",
      "text/plain": [
       "<Figure size 432x288 with 1 Axes>"
      ]
     },
     "metadata": {},
     "output_type": "display_data"
    },
    {
     "name": "stdout",
     "output_type": "stream",
     "text": [
      "This image represents the number 5\n"
     ]
    }
   ],
   "source": [
    "# Change the value of i and re-run this cell to look at different samples. There's 60,000 to choose from!\n",
    "i = 0\n",
    "\n",
    "pyplot.imshow(x_train[i], cmap='Greys', interpolation='nearest')\n",
    "pyplot.show()\n",
    "\n",
    "print('This image represents the number', y_train[i])"
   ]
  },
  {
   "cell_type": "markdown",
   "metadata": {},
   "source": [
    "## Preparing the data for training\n",
    "\n",
    "Our neural network will have 784 neurons in the input layer - one for each pixel in a sample image. To prepare the data for training we'll reshape `x_train` and `x_test` so that each sample is a 1D array of 784 numbers."
   ]
  },
  {
   "cell_type": "code",
   "execution_count": 4,
   "metadata": {},
   "outputs": [],
   "source": [
    "x_train_prepared = x_train.reshape((60000, 784))\n",
    "x_test_prepared = x_test.reshape((10000, 784))"
   ]
  },
  {
   "cell_type": "markdown",
   "metadata": {},
   "source": [
    "We'll also change the values of `y_train` and `y_test` from integers to a categorical encoding. The new values will be arrays of length 10, where all the values are 0 except where the index is the desired number, which will be 1. For example, if the number represented in the image was 2, the cateorical encoding would be `[0, 0, 1, 0, 0, 0, 0, 0, 0, 0]` (since the third position has index 2).\n",
    "- Why do we need to do this? Because we're trying to categorize the images into ten groups, and it doesn't really make sense to say that any of those groups are \"higher value\" than any other. This kind of categorical encoding makes it easier for the neural network to process."
   ]
  },
  {
   "cell_type": "code",
   "execution_count": 5,
   "metadata": {},
   "outputs": [],
   "source": [
    "y_train_prepared = to_categorical(y_train)\n",
    "y_test_prepared = to_categorical(y_test)"
   ]
  },
  {
   "cell_type": "markdown",
   "metadata": {},
   "source": [
    "# Building the neural network"
   ]
  },
  {
   "cell_type": "code",
   "execution_count": 6,
   "metadata": {},
   "outputs": [],
   "source": [
    "model = Sequential()\n",
    "model.add(Dense(512, input_shape=(784,)))\n",
    "model.add(Activation('relu')) \n",
    "model.add(Dense(512))\n",
    "model.add(Activation('relu'))\n",
    "model.add(Dense(10))\n",
    "model.add(Activation('softmax'))\n",
    "\n",
    "model.compile(loss='categorical_crossentropy', optimizer='adam')"
   ]
  },
  {
   "cell_type": "code",
   "execution_count": 7,
   "metadata": {},
   "outputs": [
    {
     "data": {
      "image/svg+xml": [
       "<svg height=\"553pt\" viewBox=\"0.00 0.00 386.00 553.00\" width=\"386pt\" xmlns=\"http://www.w3.org/2000/svg\" xmlns:xlink=\"http://www.w3.org/1999/xlink\">\n",
       "<g class=\"graph\" id=\"graph0\" transform=\"scale(1 1) rotate(0) translate(4 549)\">\n",
       "<title>G</title>\n",
       "<polygon fill=\"white\" points=\"-4,4 -4,-549 382,-549 382,4 -4,4\" stroke=\"none\"/>\n",
       "<!-- 139730795810656 -->\n",
       "<g class=\"node\" id=\"node1\"><title>139730795810656</title>\n",
       "<polygon fill=\"none\" points=\"0,-498.5 0,-544.5 378,-544.5 378,-498.5 0,-498.5\" stroke=\"black\"/>\n",
       "<text font-family=\"Times,serif\" font-size=\"14.00\" text-anchor=\"middle\" x=\"104.5\" y=\"-517.8\">dense_1_input: InputLayer</text>\n",
       "<polyline fill=\"none\" points=\"209,-498.5 209,-544.5 \" stroke=\"black\"/>\n",
       "<text font-family=\"Times,serif\" font-size=\"14.00\" text-anchor=\"middle\" x=\"243\" y=\"-529.3\">input:</text>\n",
       "<polyline fill=\"none\" points=\"209,-521.5 277,-521.5 \" stroke=\"black\"/>\n",
       "<text font-family=\"Times,serif\" font-size=\"14.00\" text-anchor=\"middle\" x=\"243\" y=\"-506.3\">output:</text>\n",
       "<polyline fill=\"none\" points=\"277,-498.5 277,-544.5 \" stroke=\"black\"/>\n",
       "<text font-family=\"Times,serif\" font-size=\"14.00\" text-anchor=\"middle\" x=\"327.5\" y=\"-529.3\">(None, 784)</text>\n",
       "<polyline fill=\"none\" points=\"277,-521.5 378,-521.5 \" stroke=\"black\"/>\n",
       "<text font-family=\"Times,serif\" font-size=\"14.00\" text-anchor=\"middle\" x=\"327.5\" y=\"-506.3\">(None, 784)</text>\n",
       "</g>\n",
       "<!-- 139730795768464 -->\n",
       "<g class=\"node\" id=\"node2\"><title>139730795768464</title>\n",
       "<polygon fill=\"none\" points=\"40.5,-415.5 40.5,-461.5 337.5,-461.5 337.5,-415.5 40.5,-415.5\" stroke=\"black\"/>\n",
       "<text font-family=\"Times,serif\" font-size=\"14.00\" text-anchor=\"middle\" x=\"104.5\" y=\"-434.8\">dense_1: Dense</text>\n",
       "<polyline fill=\"none\" points=\"168.5,-415.5 168.5,-461.5 \" stroke=\"black\"/>\n",
       "<text font-family=\"Times,serif\" font-size=\"14.00\" text-anchor=\"middle\" x=\"202.5\" y=\"-446.3\">input:</text>\n",
       "<polyline fill=\"none\" points=\"168.5,-438.5 236.5,-438.5 \" stroke=\"black\"/>\n",
       "<text font-family=\"Times,serif\" font-size=\"14.00\" text-anchor=\"middle\" x=\"202.5\" y=\"-423.3\">output:</text>\n",
       "<polyline fill=\"none\" points=\"236.5,-415.5 236.5,-461.5 \" stroke=\"black\"/>\n",
       "<text font-family=\"Times,serif\" font-size=\"14.00\" text-anchor=\"middle\" x=\"287\" y=\"-446.3\">(None, 784)</text>\n",
       "<polyline fill=\"none\" points=\"236.5,-438.5 337.5,-438.5 \" stroke=\"black\"/>\n",
       "<text font-family=\"Times,serif\" font-size=\"14.00\" text-anchor=\"middle\" x=\"287\" y=\"-423.3\">(None, 512)</text>\n",
       "</g>\n",
       "<!-- 139730795810656&#45;&gt;139730795768464 -->\n",
       "<g class=\"edge\" id=\"edge1\"><title>139730795810656-&gt;139730795768464</title>\n",
       "<path d=\"M189,-498.366C189,-490.152 189,-480.658 189,-471.725\" fill=\"none\" stroke=\"black\"/>\n",
       "<polygon fill=\"black\" points=\"192.5,-471.607 189,-461.607 185.5,-471.607 192.5,-471.607\" stroke=\"black\"/>\n",
       "</g>\n",
       "<!-- 139730795768352 -->\n",
       "<g class=\"node\" id=\"node3\"><title>139730795768352</title>\n",
       "<polygon fill=\"none\" points=\"11,-332.5 11,-378.5 367,-378.5 367,-332.5 11,-332.5\" stroke=\"black\"/>\n",
       "<text font-family=\"Times,serif\" font-size=\"14.00\" text-anchor=\"middle\" x=\"104.5\" y=\"-351.8\">activation_1: Activation</text>\n",
       "<polyline fill=\"none\" points=\"198,-332.5 198,-378.5 \" stroke=\"black\"/>\n",
       "<text font-family=\"Times,serif\" font-size=\"14.00\" text-anchor=\"middle\" x=\"232\" y=\"-363.3\">input:</text>\n",
       "<polyline fill=\"none\" points=\"198,-355.5 266,-355.5 \" stroke=\"black\"/>\n",
       "<text font-family=\"Times,serif\" font-size=\"14.00\" text-anchor=\"middle\" x=\"232\" y=\"-340.3\">output:</text>\n",
       "<polyline fill=\"none\" points=\"266,-332.5 266,-378.5 \" stroke=\"black\"/>\n",
       "<text font-family=\"Times,serif\" font-size=\"14.00\" text-anchor=\"middle\" x=\"316.5\" y=\"-363.3\">(None, 512)</text>\n",
       "<polyline fill=\"none\" points=\"266,-355.5 367,-355.5 \" stroke=\"black\"/>\n",
       "<text font-family=\"Times,serif\" font-size=\"14.00\" text-anchor=\"middle\" x=\"316.5\" y=\"-340.3\">(None, 512)</text>\n",
       "</g>\n",
       "<!-- 139730795768464&#45;&gt;139730795768352 -->\n",
       "<g class=\"edge\" id=\"edge2\"><title>139730795768464-&gt;139730795768352</title>\n",
       "<path d=\"M189,-415.366C189,-407.152 189,-397.658 189,-388.725\" fill=\"none\" stroke=\"black\"/>\n",
       "<polygon fill=\"black\" points=\"192.5,-388.607 189,-378.607 185.5,-388.607 192.5,-388.607\" stroke=\"black\"/>\n",
       "</g>\n",
       "<!-- 139730795845392 -->\n",
       "<g class=\"node\" id=\"node4\"><title>139730795845392</title>\n",
       "<polygon fill=\"none\" points=\"40.5,-249.5 40.5,-295.5 337.5,-295.5 337.5,-249.5 40.5,-249.5\" stroke=\"black\"/>\n",
       "<text font-family=\"Times,serif\" font-size=\"14.00\" text-anchor=\"middle\" x=\"104.5\" y=\"-268.8\">dense_2: Dense</text>\n",
       "<polyline fill=\"none\" points=\"168.5,-249.5 168.5,-295.5 \" stroke=\"black\"/>\n",
       "<text font-family=\"Times,serif\" font-size=\"14.00\" text-anchor=\"middle\" x=\"202.5\" y=\"-280.3\">input:</text>\n",
       "<polyline fill=\"none\" points=\"168.5,-272.5 236.5,-272.5 \" stroke=\"black\"/>\n",
       "<text font-family=\"Times,serif\" font-size=\"14.00\" text-anchor=\"middle\" x=\"202.5\" y=\"-257.3\">output:</text>\n",
       "<polyline fill=\"none\" points=\"236.5,-249.5 236.5,-295.5 \" stroke=\"black\"/>\n",
       "<text font-family=\"Times,serif\" font-size=\"14.00\" text-anchor=\"middle\" x=\"287\" y=\"-280.3\">(None, 512)</text>\n",
       "<polyline fill=\"none\" points=\"236.5,-272.5 337.5,-272.5 \" stroke=\"black\"/>\n",
       "<text font-family=\"Times,serif\" font-size=\"14.00\" text-anchor=\"middle\" x=\"287\" y=\"-257.3\">(None, 512)</text>\n",
       "</g>\n",
       "<!-- 139730795768352&#45;&gt;139730795845392 -->\n",
       "<g class=\"edge\" id=\"edge3\"><title>139730795768352-&gt;139730795845392</title>\n",
       "<path d=\"M189,-332.366C189,-324.152 189,-314.658 189,-305.725\" fill=\"none\" stroke=\"black\"/>\n",
       "<polygon fill=\"black\" points=\"192.5,-305.607 189,-295.607 185.5,-305.607 192.5,-305.607\" stroke=\"black\"/>\n",
       "</g>\n",
       "<!-- 139730795847128 -->\n",
       "<g class=\"node\" id=\"node5\"><title>139730795847128</title>\n",
       "<polygon fill=\"none\" points=\"11,-166.5 11,-212.5 367,-212.5 367,-166.5 11,-166.5\" stroke=\"black\"/>\n",
       "<text font-family=\"Times,serif\" font-size=\"14.00\" text-anchor=\"middle\" x=\"104.5\" y=\"-185.8\">activation_2: Activation</text>\n",
       "<polyline fill=\"none\" points=\"198,-166.5 198,-212.5 \" stroke=\"black\"/>\n",
       "<text font-family=\"Times,serif\" font-size=\"14.00\" text-anchor=\"middle\" x=\"232\" y=\"-197.3\">input:</text>\n",
       "<polyline fill=\"none\" points=\"198,-189.5 266,-189.5 \" stroke=\"black\"/>\n",
       "<text font-family=\"Times,serif\" font-size=\"14.00\" text-anchor=\"middle\" x=\"232\" y=\"-174.3\">output:</text>\n",
       "<polyline fill=\"none\" points=\"266,-166.5 266,-212.5 \" stroke=\"black\"/>\n",
       "<text font-family=\"Times,serif\" font-size=\"14.00\" text-anchor=\"middle\" x=\"316.5\" y=\"-197.3\">(None, 512)</text>\n",
       "<polyline fill=\"none\" points=\"266,-189.5 367,-189.5 \" stroke=\"black\"/>\n",
       "<text font-family=\"Times,serif\" font-size=\"14.00\" text-anchor=\"middle\" x=\"316.5\" y=\"-174.3\">(None, 512)</text>\n",
       "</g>\n",
       "<!-- 139730795845392&#45;&gt;139730795847128 -->\n",
       "<g class=\"edge\" id=\"edge4\"><title>139730795845392-&gt;139730795847128</title>\n",
       "<path d=\"M189,-249.366C189,-241.152 189,-231.658 189,-222.725\" fill=\"none\" stroke=\"black\"/>\n",
       "<polygon fill=\"black\" points=\"192.5,-222.607 189,-212.607 185.5,-222.607 192.5,-222.607\" stroke=\"black\"/>\n",
       "</g>\n",
       "<!-- 139730790700760 -->\n",
       "<g class=\"node\" id=\"node6\"><title>139730790700760</title>\n",
       "<polygon fill=\"none\" points=\"40.5,-83.5 40.5,-129.5 337.5,-129.5 337.5,-83.5 40.5,-83.5\" stroke=\"black\"/>\n",
       "<text font-family=\"Times,serif\" font-size=\"14.00\" text-anchor=\"middle\" x=\"104.5\" y=\"-102.8\">dense_3: Dense</text>\n",
       "<polyline fill=\"none\" points=\"168.5,-83.5 168.5,-129.5 \" stroke=\"black\"/>\n",
       "<text font-family=\"Times,serif\" font-size=\"14.00\" text-anchor=\"middle\" x=\"202.5\" y=\"-114.3\">input:</text>\n",
       "<polyline fill=\"none\" points=\"168.5,-106.5 236.5,-106.5 \" stroke=\"black\"/>\n",
       "<text font-family=\"Times,serif\" font-size=\"14.00\" text-anchor=\"middle\" x=\"202.5\" y=\"-91.3\">output:</text>\n",
       "<polyline fill=\"none\" points=\"236.5,-83.5 236.5,-129.5 \" stroke=\"black\"/>\n",
       "<text font-family=\"Times,serif\" font-size=\"14.00\" text-anchor=\"middle\" x=\"287\" y=\"-114.3\">(None, 512)</text>\n",
       "<polyline fill=\"none\" points=\"236.5,-106.5 337.5,-106.5 \" stroke=\"black\"/>\n",
       "<text font-family=\"Times,serif\" font-size=\"14.00\" text-anchor=\"middle\" x=\"287\" y=\"-91.3\">(None, 10)</text>\n",
       "</g>\n",
       "<!-- 139730795847128&#45;&gt;139730790700760 -->\n",
       "<g class=\"edge\" id=\"edge5\"><title>139730795847128-&gt;139730790700760</title>\n",
       "<path d=\"M189,-166.366C189,-158.152 189,-148.658 189,-139.725\" fill=\"none\" stroke=\"black\"/>\n",
       "<polygon fill=\"black\" points=\"192.5,-139.607 189,-129.607 185.5,-139.607 192.5,-139.607\" stroke=\"black\"/>\n",
       "</g>\n",
       "<!-- 139730790701936 -->\n",
       "<g class=\"node\" id=\"node7\"><title>139730790701936</title>\n",
       "<polygon fill=\"none\" points=\"15.5,-0.5 15.5,-46.5 362.5,-46.5 362.5,-0.5 15.5,-0.5\" stroke=\"black\"/>\n",
       "<text font-family=\"Times,serif\" font-size=\"14.00\" text-anchor=\"middle\" x=\"109\" y=\"-19.8\">activation_3: Activation</text>\n",
       "<polyline fill=\"none\" points=\"202.5,-0.5 202.5,-46.5 \" stroke=\"black\"/>\n",
       "<text font-family=\"Times,serif\" font-size=\"14.00\" text-anchor=\"middle\" x=\"236.5\" y=\"-31.3\">input:</text>\n",
       "<polyline fill=\"none\" points=\"202.5,-23.5 270.5,-23.5 \" stroke=\"black\"/>\n",
       "<text font-family=\"Times,serif\" font-size=\"14.00\" text-anchor=\"middle\" x=\"236.5\" y=\"-8.3\">output:</text>\n",
       "<polyline fill=\"none\" points=\"270.5,-0.5 270.5,-46.5 \" stroke=\"black\"/>\n",
       "<text font-family=\"Times,serif\" font-size=\"14.00\" text-anchor=\"middle\" x=\"316.5\" y=\"-31.3\">(None, 10)</text>\n",
       "<polyline fill=\"none\" points=\"270.5,-23.5 362.5,-23.5 \" stroke=\"black\"/>\n",
       "<text font-family=\"Times,serif\" font-size=\"14.00\" text-anchor=\"middle\" x=\"316.5\" y=\"-8.3\">(None, 10)</text>\n",
       "</g>\n",
       "<!-- 139730790700760&#45;&gt;139730790701936 -->\n",
       "<g class=\"edge\" id=\"edge6\"><title>139730790700760-&gt;139730790701936</title>\n",
       "<path d=\"M189,-83.3664C189,-75.1516 189,-65.6579 189,-56.7252\" fill=\"none\" stroke=\"black\"/>\n",
       "<polygon fill=\"black\" points=\"192.5,-56.6068 189,-46.6068 185.5,-56.6069 192.5,-56.6068\" stroke=\"black\"/>\n",
       "</g>\n",
       "</g>\n",
       "</svg>"
      ],
      "text/plain": [
       "<IPython.core.display.SVG object>"
      ]
     },
     "execution_count": 7,
     "metadata": {},
     "output_type": "execute_result"
    }
   ],
   "source": [
    "from IPython.display import SVG\n",
    "from keras.utils.vis_utils import model_to_dot\n",
    "\n",
    "SVG(model_to_dot(model, show_shapes=True).create(prog='dot', format='svg'))"
   ]
  },
  {
   "cell_type": "code",
   "execution_count": null,
   "metadata": {},
   "outputs": [],
   "source": []
  }
 ],
 "metadata": {
  "kernelspec": {
   "display_name": "Python 3",
   "language": "python",
   "name": "python3"
  },
  "language_info": {
   "codemirror_mode": {
    "name": "ipython",
    "version": 3
   },
   "file_extension": ".py",
   "mimetype": "text/x-python",
   "name": "python",
   "nbconvert_exporter": "python",
   "pygments_lexer": "ipython3",
   "version": "3.6.4"
  }
 },
 "nbformat": 4,
 "nbformat_minor": 2
}
